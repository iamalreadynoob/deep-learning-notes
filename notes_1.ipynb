{
  "nbformat": 4,
  "nbformat_minor": 0,
  "metadata": {
    "colab": {
      "provenance": [],
      "gpuType": "T4"
    },
    "kernelspec": {
      "name": "python3",
      "display_name": "Python 3"
    },
    "language_info": {
      "name": "python"
    },
    "accelerator": "GPU"
  },
  "cells": [
    {
      "cell_type": "markdown",
      "source": [
        "* The default Colab environment already comes with TensorFlow and Keras installed.\n",
        "* All the other libraries except them are added by using pip command with **!** symbol.\n",
        "\n",
        "```python\n",
        "!pip install package_name\n",
        "```\n",
        "\n",
        "* To use the GPU runtime with Colab, select Runtime > Change Runtime Type in the menu and select GPU for the Hardware Accelerator.\n",
        "\n",
        "***\n",
        "\n",
        "# Constant Tensors and Variables\n",
        "\n",
        "* To do something on TensorFlow, tensors are used. Also, tensors must be created with some initial value.\n",
        "\n",
        "* For instance, it could be created with all-zero, all-one or random values."
      ],
      "metadata": {
        "id": "n_ZMZxE0USqb"
      }
    },
    {
      "cell_type": "code",
      "execution_count": null,
      "metadata": {
        "id": "HyzGTGs8T8xK"
      },
      "outputs": [],
      "source": [
        "import tensorflow as tf"
      ]
    },
    {
      "cell_type": "markdown",
      "source": [
        "## All-Zero Tensors"
      ],
      "metadata": {
        "id": "502AcuzKXWiF"
      }
    },
    {
      "cell_type": "code",
      "source": [
        "x = tf.zeros(shape=(2,1))\n",
        "print(x)"
      ],
      "metadata": {
        "colab": {
          "base_uri": "https://localhost:8080/"
        },
        "id": "r0JsPS3VXaoO",
        "outputId": "4a5cdd20-d8d5-4e55-9000-4c250929beb6"
      },
      "execution_count": null,
      "outputs": [
        {
          "output_type": "stream",
          "name": "stdout",
          "text": [
            "tf.Tensor(\n",
            "[[0.]\n",
            " [0.]], shape=(2, 1), dtype=float32)\n"
          ]
        }
      ]
    },
    {
      "cell_type": "markdown",
      "source": [
        "## All-One Tensors"
      ],
      "metadata": {
        "id": "rW2DfUCnX0yn"
      }
    },
    {
      "cell_type": "code",
      "source": [
        "y = tf.ones(shape=(2,1))\n",
        "print(y)"
      ],
      "metadata": {
        "colab": {
          "base_uri": "https://localhost:8080/"
        },
        "id": "m7ewiVrkX8YN",
        "outputId": "8a44997f-13da-4905-e162-1143308366a4"
      },
      "execution_count": null,
      "outputs": [
        {
          "output_type": "stream",
          "name": "stdout",
          "text": [
            "tf.Tensor(\n",
            "[[1.]\n",
            " [1.]], shape=(2, 1), dtype=float32)\n"
          ]
        }
      ]
    },
    {
      "cell_type": "markdown",
      "source": [
        "## Random Value Tensors"
      ],
      "metadata": {
        "id": "-NmgpYjzYIi1"
      }
    },
    {
      "cell_type": "code",
      "source": [
        "z = tf.random.normal(shape=(2,1), mean=0., stddev=1.)\n",
        "print(z)"
      ],
      "metadata": {
        "colab": {
          "base_uri": "https://localhost:8080/"
        },
        "id": "_RyuW2TBYMJp",
        "outputId": "b3ef4b93-5a6d-4c24-9838-45e64e838dc9"
      },
      "execution_count": null,
      "outputs": [
        {
          "output_type": "stream",
          "name": "stdout",
          "text": [
            "tf.Tensor(\n",
            "[[-0.4876375]\n",
            " [-2.4249372]], shape=(2, 1), dtype=float32)\n"
          ]
        }
      ]
    },
    {
      "cell_type": "markdown",
      "source": [
        "It makes a tensor of random values drawn from a normal distribution with mean 0 and standard deviation 1."
      ],
      "metadata": {
        "id": "j6gJ-9j4Y3ow"
      }
    },
    {
      "cell_type": "code",
      "source": [
        "w = tf.random.uniform(shape=(2,1), minval=0., maxval=1.)\n",
        "print(w)"
      ],
      "metadata": {
        "colab": {
          "base_uri": "https://localhost:8080/"
        },
        "id": "Gjk_uzW8ZTg2",
        "outputId": "35298881-917f-44d2-95b1-68d3ec178f3b"
      },
      "execution_count": null,
      "outputs": [
        {
          "output_type": "stream",
          "name": "stdout",
          "text": [
            "tf.Tensor(\n",
            "[[0.02193677]\n",
            " [0.06778741]], shape=(2, 1), dtype=float32)\n"
          ]
        }
      ]
    },
    {
      "cell_type": "markdown",
      "source": [
        "It makes a tensor of random values drawn from a uniform distribution between 0 and 1."
      ],
      "metadata": {
        "id": "8t_9B7OvZmbs"
      }
    },
    {
      "cell_type": "markdown",
      "source": [
        "* A significant difference between NumPy arrays and TensorFlow tensors is that TensorFlow tensors **aren’t assignable**.\n",
        "* **tf.Variable** is the class meant to manage modifiable state in TensorFlow."
      ],
      "metadata": {
        "id": "ytYQC-ElZ3aB"
      }
    },
    {
      "cell_type": "code",
      "source": [
        "q = tf.Variable(initial_value=tf.random.normal(shape=(2,1)))\n",
        "print(q)"
      ],
      "metadata": {
        "colab": {
          "base_uri": "https://localhost:8080/"
        },
        "id": "r4OKFwmlaolp",
        "outputId": "068cc905-3b3c-4c7b-c29f-eb03e95391b2"
      },
      "execution_count": null,
      "outputs": [
        {
          "output_type": "stream",
          "name": "stdout",
          "text": [
            "<tf.Variable 'Variable:0' shape=(2, 1) dtype=float32, numpy=\n",
            "array([[-1.6440791 ],\n",
            "       [-0.29095608]], dtype=float32)>\n"
          ]
        }
      ]
    },
    {
      "cell_type": "markdown",
      "source": [
        "That's the way of creating a variable."
      ],
      "metadata": {
        "id": "gzpgxwIybO5D"
      }
    },
    {
      "cell_type": "code",
      "source": [
        "q.assign(tf.ones(shape=(2,1)))\n",
        "print(q)"
      ],
      "metadata": {
        "colab": {
          "base_uri": "https://localhost:8080/"
        },
        "id": "ll5pJlo9bUPA",
        "outputId": "87a55adb-f8a8-49cf-887f-ccfdf403181b"
      },
      "execution_count": null,
      "outputs": [
        {
          "output_type": "stream",
          "name": "stdout",
          "text": [
            "<tf.Variable 'Variable:0' shape=(2, 1) dtype=float32, numpy=\n",
            "array([[1.],\n",
            "       [1.]], dtype=float32)>\n"
          ]
        }
      ]
    },
    {
      "cell_type": "markdown",
      "source": [
        "This is the way of reassigning."
      ],
      "metadata": {
        "id": "t5d7wDMQb6sN"
      }
    },
    {
      "cell_type": "code",
      "source": [
        "q[0,0].assign(7.)\n",
        "print(q)"
      ],
      "metadata": {
        "colab": {
          "base_uri": "https://localhost:8080/"
        },
        "id": "1G_Ly_yJcFPg",
        "outputId": "55ad1e48-713f-4b44-9eb9-3d8fd05340e4"
      },
      "execution_count": null,
      "outputs": [
        {
          "output_type": "stream",
          "name": "stdout",
          "text": [
            "<tf.Variable 'Variable:0' shape=(2, 1) dtype=float32, numpy=\n",
            "array([[7.],\n",
            "       [1.]], dtype=float32)>\n"
          ]
        }
      ]
    },
    {
      "cell_type": "markdown",
      "source": [
        "That's called as subset value assigning."
      ],
      "metadata": {
        "id": "k0mVvCOZcfhr"
      }
    },
    {
      "cell_type": "code",
      "source": [
        "q.assign_add(tf.ones((2,1)))\n",
        "print(q)"
      ],
      "metadata": {
        "colab": {
          "base_uri": "https://localhost:8080/"
        },
        "id": "BNfIcwLAmewc",
        "outputId": "37fbfdc8-657a-43a0-fd8f-f3dbd3045ca3"
      },
      "execution_count": null,
      "outputs": [
        {
          "output_type": "stream",
          "name": "stdout",
          "text": [
            "<tf.Variable 'Variable:0' shape=(2, 1) dtype=float32, numpy=\n",
            "array([[8.],\n",
            "       [2.]], dtype=float32)>\n"
          ]
        }
      ]
    },
    {
      "cell_type": "markdown",
      "source": [
        "TensorFlow offers basic arithmethical operations such as **assign_add**, **square**, **sqrt**, **matmul** etc.\n",
        "\n",
        "**matmul** takes the product of two tensors.\n",
        "\n",
        "***\n",
        "\n",
        "# GradientTape\n",
        "\n",
        "* TensorFlow seems to look a lot like NumPy. But here’s something NumPy can’t do: retrieve the gradient of any differentiable expression with respect to any of its inputs."
      ],
      "metadata": {
        "id": "GFKrP_jenbIX"
      }
    },
    {
      "cell_type": "code",
      "source": [
        "input_var = tf.Variable(initial_value=3.)\n",
        "print(input_var)\n",
        "\n",
        "with tf.GradientTape() as tape:\n",
        "  result = tf.square(input_var)\n",
        "  gradient = tape.gradient(result, input_var)\n",
        "\n",
        "  print(result)\n",
        "  print(gradient)"
      ],
      "metadata": {
        "colab": {
          "base_uri": "https://localhost:8080/"
        },
        "id": "1DIm4WJBqSdi",
        "outputId": "bd641c92-fa23-4069-fe8a-1a37c5fa9859"
      },
      "execution_count": null,
      "outputs": [
        {
          "output_type": "stream",
          "name": "stdout",
          "text": [
            "<tf.Variable 'Variable:0' shape=() dtype=float32, numpy=3.0>\n",
            "tf.Tensor(9.0, shape=(), dtype=float32)\n",
            "tf.Tensor(6.0, shape=(), dtype=float32)\n"
          ]
        }
      ]
    },
    {
      "cell_type": "markdown",
      "source": [
        "* This is most commonly used to retrieve the gradients of the loss of a model with respect to its weights: **gradients = tape.gradient(loss, weights)**.\n",
        "\n",
        "> So far, you’ve only seen the case where the input tensors in tape gradient() were TensorFlow variables. It’s actually possible for these inputs to be any arbitrary tensor. However, only trainable variables are tracked by default. With a constant tensor, you’d have to manually mark it as being tracked by calling _tape.watch()_ on it.\n",
        "\n"
      ],
      "metadata": {
        "id": "WE9x_r9NriFX"
      }
    },
    {
      "cell_type": "code",
      "source": [
        "input_const = tf.constant(3.)\n",
        "print(input_const)\n",
        "\n",
        "with tf.GradientTape() as tape:\n",
        "  tape.watch(input_const)\n",
        "  result = tf.square(input_const)\n",
        "  gradient = tape.gradient(result, input_const)\n",
        "\n",
        "  print(result)\n",
        "  print(gradient)"
      ],
      "metadata": {
        "colab": {
          "base_uri": "https://localhost:8080/"
        },
        "id": "PT_rle14r8vF",
        "outputId": "4c09ee71-a518-4aa5-d155-98290cef146d"
      },
      "execution_count": null,
      "outputs": [
        {
          "output_type": "stream",
          "name": "stdout",
          "text": [
            "tf.Tensor(3.0, shape=(), dtype=float32)\n",
            "tf.Tensor(9.0, shape=(), dtype=float32)\n",
            "tf.Tensor(6.0, shape=(), dtype=float32)\n"
          ]
        }
      ]
    },
    {
      "cell_type": "markdown",
      "source": [
        "> Why is this necessary? Because it would be too expensive to preemptively store the information required to compute the gradient of anything with respect to anything. To avoid wasting resources, the tape needs to know what to watch.\n",
        "\n",
        "* The gradient tape is a powerful utility, even capable of computing second-order gradients."
      ],
      "metadata": {
        "id": "N5vVuZe9ufHc"
      }
    }
  ]
}